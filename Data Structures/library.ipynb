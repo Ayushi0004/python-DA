{
 "cells": [
  {
   "cell_type": "markdown",
   "metadata": {},
   "source": [
    "## LIBRARY IN PYTHON "
   ]
  },
  {
   "cell_type": "code",
   "execution_count": 1,
   "metadata": {},
   "outputs": [],
   "source": [
    "import math"
   ]
  },
  {
   "cell_type": "code",
   "execution_count": 2,
   "metadata": {},
   "outputs": [
    {
     "name": "stdout",
     "output_type": "stream",
     "text": [
      "3.0\n",
      "8.0\n",
      "6\n",
      "3.141592653589793\n",
      "2.718281828459045\n",
      "4\n",
      "24\n",
      "-0.3048106211022167\n",
      "0.5403023058681398\n",
      "1.5574077246549023\n"
     ]
    }
   ],
   "source": [
    "print(math.sqrt(9))\n",
    "print(math.pow(2,3))\n",
    "print(math.factorial(3))\n",
    "print(math.pi)\n",
    "print(math.e)\n",
    "print(math.gcd(12,8))\n",
    "print(math.lcm(12,8))\n",
    "print(math.sin(60))\n",
    "print(math.cos(1))\n",
    "print(math.tan(1))"
   ]
  },
  {
   "cell_type": "code",
   "execution_count": 3,
   "metadata": {},
   "outputs": [],
   "source": [
    "from random import random, randint, choice, shuffle"
   ]
  },
  {
   "cell_type": "code",
   "execution_count": 4,
   "metadata": {},
   "outputs": [
    {
     "name": "stdout",
     "output_type": "stream",
     "text": [
      "get a random number between 0 and 1: 0.47559293842549444\n",
      "get a random number between 1 and 100: 65\n",
      "get a random element from a list: 6\n",
      "shuffle a list: ['tanul', 'muskan', 'ayushi', 'riya', 'siya', 'shiva']\n"
     ]
    }
   ],
   "source": [
    "print('get a random number between 0 and 1:', random())\n",
    "print('get a random number between 1 and 100:', randint(1,100))\n",
    "print('get a random element from a list:', choice([1,2,3,4,5,6]))\n",
    "names =['ayushi','muskan','shiva','riya','tanul','siya']\n",
    "shuffle(names)\n",
    "print('shuffle a list:',names)"
   ]
  },
  {
   "cell_type": "code",
   "execution_count": 5,
   "metadata": {},
   "outputs": [],
   "source": [
    "from datetime import datetime as dt"
   ]
  },
  {
   "cell_type": "code",
   "execution_count": 6,
   "metadata": {},
   "outputs": [
    {
     "name": "stdout",
     "output_type": "stream",
     "text": [
      "current date and time: 2024-10-13 11:14:51.218017\n"
     ]
    }
   ],
   "source": [
    "print(\"current date and time:\",dt.now())"
   ]
  },
  {
   "cell_type": "code",
   "execution_count": 7,
   "metadata": {},
   "outputs": [
    {
     "name": "stdout",
     "output_type": "stream",
     "text": [
      "current date: 2024-10-13\n",
      "current time: 11:14:51.237242\n"
     ]
    }
   ],
   "source": [
    "print('current date:',dt.now().date())\n",
    "print('current time:',dt.now().time())"
   ]
  },
  {
   "cell_type": "code",
   "execution_count": 8,
   "metadata": {},
   "outputs": [
    {
     "name": "stdout",
     "output_type": "stream",
     "text": [
      "current Year: 2024\n",
      "current Month: 10\n",
      "current Day: 13\n",
      "current Hour: 11\n",
      "current Minute: 14\n",
      "current Second: 51\n",
      "current Microsecond: 256613\n",
      "current Weekday: 6\n"
     ]
    }
   ],
   "source": [
    "print('current Year:', dt.now().year)\n",
    "print('current Month:', dt.now().month)\n",
    "print('current Day:', dt.now().day)\n",
    "print('current Hour:', dt.now().hour)\n",
    "print('current Minute:', dt.now().minute)\n",
    "print('current Second:', dt.now().second)\n",
    "print('current Microsecond:', dt.now().microsecond)\n",
    "print('current Weekday:', dt.now().weekday())"
   ]
  },
  {
   "cell_type": "code",
   "execution_count": 9,
   "metadata": {},
   "outputs": [
    {
     "name": "stdout",
     "output_type": "stream",
     "text": [
      "Date: 13/10/24\n"
     ]
    }
   ],
   "source": [
    "date = dt.strftime(dt.now(), '%d/%m/%y')\n",
    "print('Date:',date)"
   ]
  },
  {
   "cell_type": "code",
   "execution_count": 10,
   "metadata": {},
   "outputs": [
    {
     "name": "stdout",
     "output_type": "stream",
     "text": [
      "time: 11:14:51\n"
     ]
    }
   ],
   "source": [
    "time = dt.strftime(dt.now(), '%H:%M:%S')\n",
    "print('time:',time)"
   ]
  },
  {
   "cell_type": "code",
   "execution_count": 11,
   "metadata": {},
   "outputs": [],
   "source": [
    "import os"
   ]
  },
  {
   "cell_type": "code",
   "execution_count": 12,
   "metadata": {},
   "outputs": [
    {
     "name": "stdout",
     "output_type": "stream",
     "text": [
      "current working directory : c:\\Users\\muska\\OneDrive\\Desktop\\python DA\\Data Structures\n"
     ]
    }
   ],
   "source": [
    "print('current working directory :',os.getcwd())"
   ]
  },
  {
   "cell_type": "code",
   "execution_count": 13,
   "metadata": {},
   "outputs": [
    {
     "name": "stdout",
     "output_type": "stream",
     "text": [
      "files in the current directory: ['dictionary.ipynb', 'library.ipynb', 'list.ipynb', 'sets.ipynb', 'string.ipynb']\n",
      "5 files found\n"
     ]
    }
   ],
   "source": [
    "files = os.listdir()\n",
    "print('files in the current directory:', files)\n",
    "print(len(files),'files found')"
   ]
  },
  {
   "cell_type": "code",
   "execution_count": 14,
   "metadata": {},
   "outputs": [
    {
     "name": "stdout",
     "output_type": "stream",
     "text": [
      "files in the current directory: ['Corel Content', 'CorelDRAW X6 Samples', 'VSTA']\n"
     ]
    }
   ],
   "source": [
    "files = os.listdir(r\"C:\\Users\\muska\\OneDrive\\Documents\\Corel\")\n",
    "print('files in the current directory:', files)"
   ]
  },
  {
   "cell_type": "code",
   "execution_count": 15,
   "metadata": {},
   "outputs": [
    {
     "data": {
      "text/plain": [
       "<generator object walk at 0x00000267BF5A6430>"
      ]
     },
     "execution_count": 15,
     "metadata": {},
     "output_type": "execute_result"
    }
   ],
   "source": [
    "os.walk('C:')"
   ]
  },
  {
   "cell_type": "code",
   "execution_count": 16,
   "metadata": {},
   "outputs": [
    {
     "name": "stdout",
     "output_type": "stream",
     "text": [
      "=> C:\n",
      "📂 []\n",
      "📄 ['dictionary.ipynb', 'library.ipynb', 'list.ipynb', 'sets.ipynb', 'string.ipynb']\n",
      "total files found: 5\n"
     ]
    }
   ],
   "source": [
    "total_files = 0\n",
    "for path, folders,files in os.walk('C:'):\n",
    "    print('=>',path)\n",
    "    print('📂', folders)\n",
    "    print('📄',files)\n",
    "    total_files += len(files)\n",
    "print('total files found:', total_files)"
   ]
  },
  {
   "cell_type": "code",
   "execution_count": 17,
   "metadata": {},
   "outputs": [
    {
     "name": "stdout",
     "output_type": "stream",
     "text": [
      "folder exists\n"
     ]
    }
   ],
   "source": [
    "file = r\"C:\\Users\\muska\\OneDrive\\Desktop\\DJANGO\"\n",
    "if os.path.exists(file):\n",
    "    print('folder exists')\n",
    "else:\n",
    "    print('folder does not exist')"
   ]
  },
  {
   "cell_type": "code",
   "execution_count": 18,
   "metadata": {},
   "outputs": [
    {
     "name": "stdout",
     "output_type": "stream",
     "text": [
      "folder exists\n"
     ]
    },
    {
     "ename": "TypeError",
     "evalue": "stat: path should be string, bytes, os.PathLike or integer, not list",
     "output_type": "error",
     "traceback": [
      "\u001b[1;31m---------------------------------------------------------------------------\u001b[0m",
      "\u001b[1;31mTypeError\u001b[0m                                 Traceback (most recent call last)",
      "Cell \u001b[1;32mIn[18], line 4\u001b[0m\n\u001b[0;32m      2\u001b[0m \u001b[38;5;28;01mif\u001b[39;00m os\u001b[38;5;241m.\u001b[39mpath\u001b[38;5;241m.\u001b[39mexists(file):\n\u001b[0;32m      3\u001b[0m     \u001b[38;5;28mprint\u001b[39m(\u001b[38;5;124m'\u001b[39m\u001b[38;5;124mfolder exists\u001b[39m\u001b[38;5;124m'\u001b[39m)\n\u001b[1;32m----> 4\u001b[0m     size \u001b[38;5;241m=\u001b[39m os\u001b[38;5;241m.\u001b[39mpath\u001b[38;5;241m.\u001b[39mgetsize(files)\n\u001b[0;32m      5\u001b[0m     \u001b[38;5;28mprint\u001b[39m(\u001b[38;5;124m'\u001b[39m\u001b[38;5;124mfolder size:\u001b[39m\u001b[38;5;124m'\u001b[39m,size, \u001b[38;5;124m'\u001b[39m\u001b[38;5;124mbytes\u001b[39m\u001b[38;5;124m'\u001b[39m)\n\u001b[0;32m      6\u001b[0m     \u001b[38;5;28mprint\u001b[39m(\u001b[38;5;124m'\u001b[39m\u001b[38;5;124mfolder size in KB:\u001b[39m\u001b[38;5;124m'\u001b[39m,size\u001b[38;5;241m/\u001b[39m\u001b[38;5;241m1024\u001b[39m, \u001b[38;5;124m'\u001b[39m\u001b[38;5;124mKB\u001b[39m\u001b[38;5;124m'\u001b[39m)\n",
      "File \u001b[1;32m<frozen genericpath>:62\u001b[0m, in \u001b[0;36mgetsize\u001b[1;34m(filename)\u001b[0m\n",
      "\u001b[1;31mTypeError\u001b[0m: stat: path should be string, bytes, os.PathLike or integer, not list"
     ]
    }
   ],
   "source": [
    "file = r\"C:\\Users\\muska\\OneDrive\\Desktop\\DJANGO\"\n",
    "if os.path.exists(file):\n",
    "    print('folder exists')\n",
    "    size = os.path.getsize(files)\n",
    "    print('folder size:',size, 'bytes')\n",
    "    print('folder size in KB:',size/1024, 'KB')\n",
    "    print('folder size in MB:',size/1024/1024, 'MB')\n",
    "    print('folder size GB:',size/1024/1024/1024, 'GB')\n",
    "    "
   ]
  },
  {
   "cell_type": "code",
   "execution_count": null,
   "metadata": {},
   "outputs": [],
   "source": []
  }
 ],
 "metadata": {
  "kernelspec": {
   "display_name": "base",
   "language": "python",
   "name": "python3"
  },
  "language_info": {
   "codemirror_mode": {
    "name": "ipython",
    "version": 3
   },
   "file_extension": ".py",
   "mimetype": "text/x-python",
   "name": "python",
   "nbconvert_exporter": "python",
   "pygments_lexer": "ipython3",
   "version": "3.12.4"
  }
 },
 "nbformat": 4,
 "nbformat_minor": 2
}
