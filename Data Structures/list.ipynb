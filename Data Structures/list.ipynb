{
 "cells": [
  {
   "cell_type": "markdown",
   "metadata": {},
   "source": [
    "## indexing and slicing"
   ]
  },
  {
   "cell_type": "code",
   "execution_count": 2,
   "metadata": {},
   "outputs": [
    {
     "name": "stdout",
     "output_type": "stream",
     "text": [
      "['google', 'chrome', 'drive', 'swiggy', 'zomato', 'instagram', 'whatsapp', 'facebook', 'uber', 'ola', 'rapido']\n"
     ]
    }
   ],
   "source": [
    "apps = ['google','chrome','drive','swiggy','zomato','instagram','whatsapp','facebook','uber','ola','rapido']\n",
    "print(apps)"
   ]
  },
  {
   "cell_type": "code",
   "execution_count": 3,
   "metadata": {},
   "outputs": [
    {
     "name": "stdout",
     "output_type": "stream",
     "text": [
      "instagram\n",
      "whatsapp\n",
      "ola\n",
      "google\n",
      "rapido\n",
      "facebook\n"
     ]
    }
   ],
   "source": [
    "print(apps[5])\n",
    "print(apps[6])\n",
    "print(apps[9])\n",
    "print(apps[0])\n",
    "print(apps[-1])\n",
    "print(apps[-4])"
   ]
  },
  {
   "cell_type": "code",
   "execution_count": 4,
   "metadata": {},
   "outputs": [
    {
     "name": "stdout",
     "output_type": "stream",
     "text": [
      "['swiggy', 'zomato', 'instagram', 'whatsapp', 'facebook']\n"
     ]
    }
   ],
   "source": [
    "print(apps[3:8])"
   ]
  },
  {
   "cell_type": "markdown",
   "metadata": {},
   "source": []
  },
  {
   "cell_type": "code",
   "execution_count": 5,
   "metadata": {},
   "outputs": [
    {
     "data": {
      "text/plain": [
       "11"
      ]
     },
     "execution_count": 5,
     "metadata": {},
     "output_type": "execute_result"
    }
   ],
   "source": [
    "len(apps)"
   ]
  },
  {
   "cell_type": "code",
   "execution_count": 6,
   "metadata": {},
   "outputs": [
    {
     "name": "stdout",
     "output_type": "stream",
     "text": [
      "['chrome', 'drive', 'swiggy', 'zomato', 'instagram', 'whatsapp']\n",
      "['swiggy', 'instagram', 'facebook']\n",
      "['google', 'chrome', 'drive', 'swiggy', 'zomato', 'instagram', 'whatsapp', 'facebook']\n",
      "['swiggy', 'zomato', 'instagram', 'whatsapp', 'facebook', 'uber', 'ola', 'rapido']\n",
      "['google', 'chrome', 'drive', 'swiggy', 'zomato', 'instagram', 'whatsapp', 'facebook', 'uber', 'ola', 'rapido']\n"
     ]
    }
   ],
   "source": [
    "print(apps[1:7])\n",
    "print(apps[3:8:2])\n",
    "print(apps[:8])\n",
    "print(apps[3:])\n",
    "print(apps)"
   ]
  },
  {
   "cell_type": "markdown",
   "metadata": {},
   "source": [
    "# Methods\n",
    "###### --append \n",
    "###### --insert\n",
    "###### --pop\n",
    "###### --remove\n",
    "###### --copy\n",
    "###### --extend\n",
    "###### --clear\n",
    "###### --sort"
   ]
  },
  {
   "cell_type": "code",
   "execution_count": 7,
   "metadata": {},
   "outputs": [
    {
     "name": "stdout",
     "output_type": "stream",
     "text": [
      "['google', 'chrome', 'drive', 'swiggy', 'zomato', 'instagram', 'whatsapp', 'facebook', 'uber', 'ola', 'rapido']\n"
     ]
    }
   ],
   "source": [
    "print(apps)"
   ]
  },
  {
   "cell_type": "code",
   "execution_count": 8,
   "metadata": {},
   "outputs": [
    {
     "name": "stdout",
     "output_type": "stream",
     "text": [
      "['google', 'chrome', 'drive', 'swiggy', 'zomato', 'instagram', 'whatsapp', 'facebook', 'uber', 'ola', 'rapido']\n"
     ]
    }
   ],
   "source": [
    "#copy method\n",
    "apps2 = apps.copy()\n",
    "print(apps2)"
   ]
  },
  {
   "cell_type": "code",
   "execution_count": 9,
   "metadata": {},
   "outputs": [
    {
     "name": "stdout",
     "output_type": "stream",
     "text": [
      "['google', 'chrome', 'drive', 'swiggy', 'zomato', 'instagram', 'whatsapp', 'facebook', 'uber', 'ola', 'rapido', 'sanpchat']\n"
     ]
    }
   ],
   "source": [
    "apps.append('sanpchat')\n",
    "print(apps)"
   ]
  },
  {
   "cell_type": "code",
   "execution_count": 10,
   "metadata": {},
   "outputs": [
    {
     "name": "stdout",
     "output_type": "stream",
     "text": [
      "['google', 'chrome', 'drive', 'photos', 'swiggy', 'zomato', 'instagram', 'whatsapp', 'facebook', 'uber', 'ola', 'rapido', 'sanpchat']\n"
     ]
    }
   ],
   "source": [
    "apps.insert(3,'photos')\n",
    "print(apps)"
   ]
  },
  {
   "cell_type": "code",
   "execution_count": 11,
   "metadata": {},
   "outputs": [
    {
     "name": "stdout",
     "output_type": "stream",
     "text": [
      "['google', 'chrome', 'drive', 'photos', 'swiggy', 'zomato', 'instagram', 'whatsapp', 'facebook', 'uber', 'ola', 'rapido']\n"
     ]
    }
   ],
   "source": [
    "apps.pop(-1)\n",
    "print(apps)"
   ]
  },
  {
   "cell_type": "code",
   "execution_count": 12,
   "metadata": {},
   "outputs": [
    {
     "name": "stdout",
     "output_type": "stream",
     "text": [
      "['google', 'chrome', 'drive', 'photos', 'swiggy', 'zomato', 'instagram', 'whatsapp', 'facebook', 'uber', 'ola', 'rapido']\n",
      "['chrome', 'drive', 'facebook', 'google', 'instagram', 'ola', 'photos', 'rapido', 'swiggy', 'uber', 'whatsapp', 'zomato']\n"
     ]
    }
   ],
   "source": [
    "print(apps)\n",
    "apps.sort()\n",
    "print(apps)"
   ]
  },
  {
   "cell_type": "code",
   "execution_count": 13,
   "metadata": {},
   "outputs": [
    {
     "name": "stdout",
     "output_type": "stream",
     "text": [
      "[1, 2, 3]\n",
      "['chrome', 'drive', 'facebook', 'google', 'instagram', 'ola', 'photos', 'rapido', 'swiggy', 'uber', 'whatsapp', 'zomato', 1, 2, 3]\n",
      "[1, 2, 3, 'chrome', 'drive', 'facebook', 'google', 'instagram', 'ola', 'photos', 'rapido', 'swiggy', 'uber', 'whatsapp', 'zomato', 1, 2, 3]\n"
     ]
    }
   ],
   "source": [
    "a=[1,2,3]\n",
    "print(a)\n",
    "apps.extend(a)\n",
    "print(apps)\n",
    "a.extend(apps)\n",
    "print(a)"
   ]
  },
  {
   "cell_type": "code",
   "execution_count": 14,
   "metadata": {},
   "outputs": [
    {
     "name": "stdout",
     "output_type": "stream",
     "text": [
      "[]\n"
     ]
    }
   ],
   "source": [
    "apps2.clear()\n",
    "print(apps2)"
   ]
  },
  {
   "cell_type": "code",
   "execution_count": 15,
   "metadata": {},
   "outputs": [
    {
     "name": "stdout",
     "output_type": "stream",
     "text": [
      "[1, 4, 9, 16, 25, 36, 49, 64, 81, 100]\n"
     ]
    }
   ],
   "source": [
    "#print the square\n",
    "list = [1,2,3,4,5,6,7,8,9,10]\n",
    "new_list = []\n",
    "for i in list:\n",
    "    new_list.append(i**2)\n",
    "print(new_list)"
   ]
  },
  {
   "cell_type": "code",
   "execution_count": 16,
   "metadata": {},
   "outputs": [
    {
     "name": "stdout",
     "output_type": "stream",
     "text": [
      "[1, 2, 3, 4, 5, 6, 7, 8, 9, 10]\n"
     ]
    }
   ],
   "source": [
    "print(list)"
   ]
  },
  {
   "cell_type": "code",
   "execution_count": 17,
   "metadata": {},
   "outputs": [
    {
     "name": "stdout",
     "output_type": "stream",
     "text": [
      "[1, 4, 9, 16, 25, 36, 49, 64, 81, 100]\n"
     ]
    }
   ],
   "source": [
    "#print the square\n",
    "list = [1,2,3,4,5,6,7,8,9,10]\n",
    "square = [i**2 for i in list]\n",
    "print(square)"
   ]
  },
  {
   "cell_type": "code",
   "execution_count": 20,
   "metadata": {},
   "outputs": [
    {
     "name": "stdout",
     "output_type": "stream",
     "text": [
      "[2, 4, 6, 8, 10, 12, 16, 14, 18, 20]\n"
     ]
    }
   ],
   "source": [
    "#print only even numbers\n",
    "num = [2,3,4,5,6,7,8,9,10,11,12,13,16,14,15,17,18,19,20]\n",
    "even_num = [i for i in num if i%2 == 0]\n",
    "print(even_num)"
   ]
  },
  {
   "cell_type": "markdown",
   "metadata": {},
   "source": []
  },
  {
   "cell_type": "code",
   "execution_count": 21,
   "metadata": {},
   "outputs": [
    {
     "name": "stdout",
     "output_type": "stream",
     "text": [
      "['apple', 'banana', 'mango', 'orange', 'grapes', 'kiwi', 'papaya', 'guava']\n"
     ]
    }
   ],
   "source": [
    "#print only these name which length has <= 6\n",
    "\n",
    "fruits = ['apple','banana','mango','orange','grapes','kiwi','papaya','watermelon','pomegranate','guava']\n",
    "fruits1 = [i for i in fruits if len(i)<=6]\n",
    "print(fruits1)"
   ]
  },
  {
   "cell_type": "code",
   "execution_count": 22,
   "metadata": {},
   "outputs": [
    {
     "name": "stdout",
     "output_type": "stream",
     "text": [
      "['APPLE', 'BANANA', 'MANGO', 'ORANGE', 'GRAPES', 'KIWI', 'PAPAYA', 'WATERMELON', 'POMEGRANATE', 'GUAVA']\n"
     ]
    }
   ],
   "source": [
    "fruits2 = [i.upper() for i in fruits]\n",
    "print(fruits2)"
   ]
  },
  {
   "cell_type": "code",
   "execution_count": 23,
   "metadata": {},
   "outputs": [
    {
     "name": "stdout",
     "output_type": "stream",
     "text": [
      "['apple', 'banana', 'mango', 'orange', 'grapes', 'papaya', 'watermelon', 'pomegranate', 'guava']\n"
     ]
    }
   ],
   "source": [
    "fruits = [i for i in fruits if 'a' in i]\n",
    "print(fruits)"
   ]
  },
  {
   "cell_type": "code",
   "execution_count": 1,
   "metadata": {},
   "outputs": [
    {
     "name": "stdout",
     "output_type": "stream",
     "text": [
      "6\n"
     ]
    }
   ],
   "source": [
    "list1=[80,66,94,87,99,95]\n",
    "print(len(list1))"
   ]
  },
  {
   "cell_type": "code",
   "execution_count": 2,
   "metadata": {},
   "outputs": [
    {
     "name": "stdout",
     "output_type": "stream",
     "text": [
      "[10, 20, 30, 40]\n",
      "[10, 20, 30, 40]\n"
     ]
    }
   ],
   "source": [
    "a = [10,  20]\n",
    "\n",
    "b = a\n",
    "\n",
    "b += [30, 40]\n",
    "\n",
    "print(a)\n",
    "\n",
    "print(b)"
   ]
  },
  {
   "cell_type": "code",
   "execution_count": 5,
   "metadata": {},
   "outputs": [
    {
     "name": "stdout",
     "output_type": "stream",
     "text": [
      "{87}\n"
     ]
    }
   ],
   "source": [
    "list=[1,3,4,2]\n",
    "x=list1.pop(2)\n",
    "print(set([x]))"
   ]
  },
  {
   "cell_type": "code",
   "execution_count": null,
   "metadata": {},
   "outputs": [],
   "source": []
  }
 ],
 "metadata": {
  "kernelspec": {
   "display_name": "base",
   "language": "python",
   "name": "python3"
  },
  "language_info": {
   "codemirror_mode": {
    "name": "ipython",
    "version": 3
   },
   "file_extension": ".py",
   "mimetype": "text/x-python",
   "name": "python",
   "nbconvert_exporter": "python",
   "pygments_lexer": "ipython3",
   "version": "3.12.4"
  }
 },
 "nbformat": 4,
 "nbformat_minor": 2
}
