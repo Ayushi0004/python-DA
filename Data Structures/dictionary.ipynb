{
 "cells": [
  {
   "cell_type": "code",
   "execution_count": 1,
   "metadata": {},
   "outputs": [
    {
     "name": "stdout",
     "output_type": "stream",
     "text": [
      "hello world\n",
      "11\n"
     ]
    }
   ],
   "source": [
    "txt = \"hello world\"\n",
    "print(txt)\n",
    "print(len(txt))"
   ]
  },
  {
   "cell_type": "code",
   "execution_count": 2,
   "metadata": {},
   "outputs": [
    {
     "name": "stdout",
     "output_type": "stream",
     "text": [
      "l\n",
      "w\n"
     ]
    }
   ],
   "source": [
    "#indexing\n",
    "\n",
    "print(txt[3])\n",
    "print(txt[6])\n"
   ]
  },
  {
   "cell_type": "code",
   "execution_count": 3,
   "metadata": {},
   "outputs": [
    {
     "name": "stdout",
     "output_type": "stream",
     "text": [
      "hello\n"
     ]
    }
   ],
   "source": [
    "#slicing\n",
    "print(txt[0:5])"
   ]
  },
  {
   "cell_type": "code",
   "execution_count": 4,
   "metadata": {},
   "outputs": [
    {
     "name": "stdout",
     "output_type": "stream",
     "text": [
      "ayushishiva\n",
      "ayushi shiva\n",
      "ayushi shiva\n"
     ]
    }
   ],
   "source": [
    "#string concatenation\n",
    "\n",
    "a = input('enter a string:')\n",
    "b = input('enter another string:')\n",
    "print(a+b)\n",
    "print(a+\" \"+b)\n",
    "print(f'{a} {b}')"
   ]
  },
  {
   "cell_type": "code",
   "execution_count": 5,
   "metadata": {},
   "outputs": [
    {
     "name": "stdout",
     "output_type": "stream",
     "text": [
      " hey  hey  hey  hey  hey \n"
     ]
    }
   ],
   "source": [
    "#string duplication\n",
    "word = ' hey '\n",
    "print(word*5)"
   ]
  },
  {
   "cell_type": "code",
   "execution_count": 6,
   "metadata": {},
   "outputs": [
    {
     "data": {
      "text/plain": [
       "'BEAUTIFUL'"
      ]
     },
     "execution_count": 6,
     "metadata": {},
     "output_type": "execute_result"
    }
   ],
   "source": [
    "x = 'beautiful'\n",
    "x.upper()\n"
   ]
  },
  {
   "cell_type": "code",
   "execution_count": 7,
   "metadata": {},
   "outputs": [
    {
     "data": {
      "text/plain": [
       "'Beautiful'"
      ]
     },
     "execution_count": 7,
     "metadata": {},
     "output_type": "execute_result"
    }
   ],
   "source": [
    "x.capitalize()"
   ]
  },
  {
   "cell_type": "code",
   "execution_count": 8,
   "metadata": {},
   "outputs": [
    {
     "data": {
      "text/plain": [
       "'python'"
      ]
     },
     "execution_count": 8,
     "metadata": {},
     "output_type": "execute_result"
    }
   ],
   "source": [
    "y = \"PYTHON\"\n",
    "y.lower()"
   ]
  },
  {
   "cell_type": "code",
   "execution_count": 9,
   "metadata": {},
   "outputs": [
    {
     "data": {
      "text/plain": [
       "['you', 'are', 'fool']"
      ]
     },
     "execution_count": 9,
     "metadata": {},
     "output_type": "execute_result"
    }
   ],
   "source": [
    "a = 'you are fool'\n",
    "a.split()"
   ]
  },
  {
   "cell_type": "markdown",
   "metadata": {},
   "source": [
    "## DICTIONARY\n",
    "\n",
    "- how to declare dictionary in different ways\n",
    "- how to access key and values of dictionary\n",
    "- how to use loops in dictionary\n",
    "- nested dictionary"
   ]
  },
  {
   "cell_type": "code",
   "execution_count": 10,
   "metadata": {},
   "outputs": [
    {
     "name": "stdout",
     "output_type": "stream",
     "text": [
      "{'name': 'john', 'class': '12th', 'roll_no': 2, 'age': 17}\n"
     ]
    }
   ],
   "source": [
    "student = {\n",
    "    'name': 'john',\n",
    "    'class':'12th',\n",
    "    'roll_no': 2,\n",
    "    'age': 17\n",
    "}\n",
    "print(student)"
   ]
  },
  {
   "cell_type": "code",
   "execution_count": 11,
   "metadata": {},
   "outputs": [
    {
     "name": "stdout",
     "output_type": "stream",
     "text": [
      "{'lucknow': [25, 35, 40], 'delhi': [30, 35, 40], 'chenni': [24, 23, 22]}\n"
     ]
    }
   ],
   "source": [
    "temp = {\n",
    "    'lucknow': [25,35,40],\n",
    "    'delhi': [30, 35, 40],\n",
    "    'chenni': [24, 23, 22]\n",
    "}\n",
    "print(temp)"
   ]
  },
  {
   "cell_type": "code",
   "execution_count": 12,
   "metadata": {},
   "outputs": [
    {
     "name": "stdout",
     "output_type": "stream",
     "text": [
      "{'name': 'john', 'age': 17, 'roll_no': 2, 'class_': '12th'}\n"
     ]
    }
   ],
   "source": [
    "info = dict(name ='john', age = 17, roll_no= 2, class_='12th')\n",
    "print(info)"
   ]
  },
  {
   "cell_type": "code",
   "execution_count": 13,
   "metadata": {},
   "outputs": [
    {
     "name": "stdout",
     "output_type": "stream",
     "text": [
      "{'name': 'ayushi', 'age': 18, 'roll_no': 23, 'class_': 'bca'}\n"
     ]
    }
   ],
   "source": [
    "info2 = dict(\n",
    "    name=input('enter your name:'),\n",
    "    age = int(input('enter your age:')),\n",
    "    roll_no= int(input('enter your roll_no:')),\n",
    "    class_=input(\"enter your class:\")\n",
    ")\n",
    "print(info2)"
   ]
  },
  {
   "cell_type": "code",
   "execution_count": 14,
   "metadata": {},
   "outputs": [
    {
     "name": "stdout",
     "output_type": "stream",
     "text": [
      "john\n",
      "[25, 35, 40]\n"
     ]
    }
   ],
   "source": [
    "#1st method to access the value of a key\n",
    "print(student['name'])\n",
    "print(temp['lucknow'])"
   ]
  },
  {
   "cell_type": "code",
   "execution_count": 15,
   "metadata": {},
   "outputs": [
    {
     "name": "stdout",
     "output_type": "stream",
     "text": [
      "17\n",
      "23\n"
     ]
    }
   ],
   "source": [
    "#2nd method to access the value of a key\n",
    "print(student.get('age'))\n",
    "print(info2.get('roll_no'))"
   ]
  },
  {
   "cell_type": "code",
   "execution_count": 7,
   "metadata": {},
   "outputs": [
    {
     "name": "stdout",
     "output_type": "stream",
     "text": [
      "{'name': 'john', 'class': '12th', 'roll_no': 2, 'age': 17, 'city': 'lucknow', 'school': 'DPS'}\n"
     ]
    }
   ],
   "source": [
    "#to add items in a dictionary\n",
    "student['city']= 'lucknow'\n",
    "student['school']='DPS'\n",
    "print(student)"
   ]
  },
  {
   "cell_type": "code",
   "execution_count": 8,
   "metadata": {},
   "outputs": [
    {
     "name": "stdout",
     "output_type": "stream",
     "text": [
      "{'name': 'john', 'class': '12th', 'roll_no': 2, 'age': 17, 'city': 'lucknow'}\n"
     ]
    }
   ],
   "source": [
    "#to remove items from a dictionary\n",
    "student.pop('school')\n",
    "print(student)"
   ]
  },
  {
   "cell_type": "code",
   "execution_count": 9,
   "metadata": {},
   "outputs": [
    {
     "name": "stdout",
     "output_type": "stream",
     "text": [
      "{'name': 'john', 'class': '12th', 'age': 17, 'city': 'lucknow'}\n"
     ]
    }
   ],
   "source": [
    "#using del method\n",
    "del student ['roll_no']\n",
    "print(student)"
   ]
  },
  {
   "cell_type": "code",
   "execution_count": 10,
   "metadata": {},
   "outputs": [
    {
     "name": "stdout",
     "output_type": "stream",
     "text": [
      "name\n",
      "age\n",
      "roll_no\n",
      "class_\n"
     ]
    }
   ],
   "source": [
    "#for print key \n",
    "for k in info:\n",
    "    print(k)"
   ]
  },
  {
   "cell_type": "code",
   "execution_count": 11,
   "metadata": {},
   "outputs": [
    {
     "name": "stdout",
     "output_type": "stream",
     "text": [
      "name:ayushi\n",
      "age:18\n",
      "roll_no:1234\n",
      "class_:12th\n"
     ]
    }
   ],
   "source": [
    "#to print key and value \n",
    "for k,v in info2.items():\n",
    "    print(f'{k}:{v}')"
   ]
  },
  {
   "cell_type": "code",
   "execution_count": 13,
   "metadata": {},
   "outputs": [
    {
     "name": "stdout",
     "output_type": "stream",
     "text": [
      "dict_values(['john', '12th', 17, 'lucknow'])\n",
      "dict_keys(['name', 'class', 'age', 'city'])\n",
      "dict_items([('name', 'john'), ('class', '12th'), ('age', 17), ('city', 'lucknow')])\n"
     ]
    }
   ],
   "source": [
    "print(student.values())\n",
    "print(student.keys())\n",
    "print(student.items())"
   ]
  },
  {
   "cell_type": "code",
   "execution_count": 14,
   "metadata": {},
   "outputs": [
    {
     "name": "stdout",
     "output_type": "stream",
     "text": [
      "{'emp001': {'name': 'john', 'age': 25, 'dept': 'HR', 'salary': 3000000}, 'emp002': {'name': 'ayushi', 'age': 30, 'dept': 'finance', 'salary': 3500000}, 'emp003': {'name': 'shiva', 'age': 35, 'dept': 'IT', 'salary': 4000000}, 'emp004': {'name': 'ayushiva', 'age': 41, 'dept': 'admin', 'salary': 4500000}}\n"
     ]
    }
   ],
   "source": [
    "company ={\n",
    "    'emp001':{'name':'john', 'age':25, 'dept':'HR', 'salary':3000000},    \n",
    "    'emp002':{'name':'ayushi', 'age':30, 'dept':'finance', 'salary':3500000},\n",
    "    'emp003':{'name':'shiva', 'age':35, 'dept':'IT', 'salary':4000000},\n",
    "    'emp004':{'name':'ayushiva', 'age':41, 'dept':'admin', 'salary':4500000},\n",
    "    }\n",
    "print(company)"
   ]
  },
  {
   "cell_type": "code",
   "execution_count": 15,
   "metadata": {},
   "outputs": [],
   "source": [
    "from pprint import pp"
   ]
  },
  {
   "cell_type": "code",
   "execution_count": 16,
   "metadata": {},
   "outputs": [
    {
     "name": "stdout",
     "output_type": "stream",
     "text": [
      "{'emp001': {'name': 'john', 'age': 25, 'dept': 'HR', 'salary': 3000000},\n",
      " 'emp002': {'name': 'ayushi', 'age': 30, 'dept': 'finance', 'salary': 3500000},\n",
      " 'emp003': {'name': 'shiva', 'age': 35, 'dept': 'IT', 'salary': 4000000},\n",
      " 'emp004': {'name': 'ayushiva', 'age': 41, 'dept': 'admin', 'salary': 4500000}}\n"
     ]
    }
   ],
   "source": [
    "pp(company)"
   ]
  },
  {
   "cell_type": "code",
   "execution_count": 17,
   "metadata": {},
   "outputs": [
    {
     "name": "stdout",
     "output_type": "stream",
     "text": [
      "{'name': 'ayushi', 'age': 30, 'dept': 'finance', 'salary': 3500000}\n"
     ]
    }
   ],
   "source": [
    "print(company[\"emp002\"])"
   ]
  },
  {
   "cell_type": "code",
   "execution_count": 19,
   "metadata": {},
   "outputs": [
    {
     "name": "stdout",
     "output_type": "stream",
     "text": [
      "admin\n"
     ]
    }
   ],
   "source": [
    "print(company['emp004']['dept'])"
   ]
  },
  {
   "cell_type": "code",
   "execution_count": 20,
   "metadata": {},
   "outputs": [
    {
     "name": "stdout",
     "output_type": "stream",
     "text": [
      "41\n"
     ]
    }
   ],
   "source": [
    "print(company['emp004']['age'])"
   ]
  },
  {
   "cell_type": "code",
   "execution_count": 25,
   "metadata": {},
   "outputs": [
    {
     "name": "stdout",
     "output_type": "stream",
     "text": [
      "{'emp001': {'name': 'john', 'age': 25, 'dept': 'HR', 'salary': 3000000}, 'emp002': {'name': 'ayushi', 'age': 30, 'dept': 'finance', 'salary': 3500000}, 'emp003': {'name': 'shiva', 'age': 35, 'dept': 'IT', 'salary': 4000000}, 'emp004': {'name': 'ayushiva', 'age': 41, 'dept': 'admin', 'salary': 4500000}, 'emp005': {'name': 'raj', 'age': 45, 'dept': 'manager', 'salary': 5000000}}\n"
     ]
    }
   ],
   "source": [
    "# company['emp004']={'name':'ayushiva', 'age':41, 'dept':'admin', 'salary':4500000}\n",
    "company['emp005']={'name':'raj', 'age':45, 'dept':'manager', 'salary':5000000}\n",
    "print(company)"
   ]
  },
  {
   "cell_type": "code",
   "execution_count": 23,
   "metadata": {},
   "outputs": [],
   "source": [
    "from pprint import pp"
   ]
  },
  {
   "cell_type": "code",
   "execution_count": 26,
   "metadata": {},
   "outputs": [
    {
     "name": "stdout",
     "output_type": "stream",
     "text": [
      "{'emp001': {'name': 'john', 'age': 25, 'dept': 'HR', 'salary': 3000000},\n",
      " 'emp002': {'name': 'ayushi', 'age': 30, 'dept': 'finance', 'salary': 3500000},\n",
      " 'emp003': {'name': 'shiva', 'age': 35, 'dept': 'IT', 'salary': 4000000},\n",
      " 'emp004': {'name': 'ayushiva', 'age': 41, 'dept': 'admin', 'salary': 4500000},\n",
      " 'emp005': {'name': 'raj', 'age': 45, 'dept': 'manager', 'salary': 5000000}}\n"
     ]
    }
   ],
   "source": [
    "pp(company)"
   ]
  },
  {
   "cell_type": "code",
   "execution_count": 27,
   "metadata": {},
   "outputs": [
    {
     "name": "stdout",
     "output_type": "stream",
     "text": [
      "25\n",
      "40\n"
     ]
    }
   ],
   "source": [
    "#indexing in dictionary\n",
    "print(temp['lucknow'][0])\n",
    "print(temp['delhi'][2])"
   ]
  },
  {
   "cell_type": "code",
   "execution_count": 29,
   "metadata": {},
   "outputs": [
    {
     "name": "stdout",
     "output_type": "stream",
     "text": [
      "average temperature of delhi is : 35.0\n"
     ]
    }
   ],
   "source": [
    "temp = {\n",
    "    'lucknow': [25,35,40],\n",
    "    'delhi': [30, 35, 40],\n",
    "    'chenni': [24, 23, 22]\n",
    "}\n",
    "print('average temperature of delhi is :', sum(temp['delhi'])/len(temp['delhi']))"
   ]
  },
  {
   "cell_type": "code",
   "execution_count": null,
   "metadata": {},
   "outputs": [],
   "source": []
  }
 ],
 "metadata": {
  "kernelspec": {
   "display_name": "base",
   "language": "python",
   "name": "python3"
  },
  "language_info": {
   "codemirror_mode": {
    "name": "ipython",
    "version": 3
   },
   "file_extension": ".py",
   "mimetype": "text/x-python",
   "name": "python",
   "nbconvert_exporter": "python",
   "pygments_lexer": "ipython3",
   "version": "3.12.4"
  }
 },
 "nbformat": 4,
 "nbformat_minor": 2
}
