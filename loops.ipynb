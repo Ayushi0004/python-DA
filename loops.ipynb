{
 "cells": [
  {
   "cell_type": "code",
   "execution_count": 1,
   "metadata": {},
   "outputs": [
    {
     "name": "stdout",
     "output_type": "stream",
     "text": [
      "['orange', 'apple', 'pear', 'banana', 'kiwi', 'apple', 'banana']\n"
     ]
    }
   ],
   "source": [
    "fruits = ['orange','apple','pear','banana', 'kiwi','apple','banana']\n",
    "print(fruits)\n"
   ]
  },
  {
   "cell_type": "code",
   "execution_count": 2,
   "metadata": {},
   "outputs": [
    {
     "name": "stdout",
     "output_type": "stream",
     "text": [
      "orange 🐼apple 🐼pear 🐼banana 🐼kiwi 🐼apple 🐼banana 🐼"
     ]
    }
   ],
   "source": [
    "for x in fruits:\n",
    "    print(x, end=' 🐼')"
   ]
  },
  {
   "cell_type": "code",
   "execution_count": 3,
   "metadata": {},
   "outputs": [
    {
     "name": "stdout",
     "output_type": "stream",
     "text": [
      "c  h  a  n  d  r  a  s  h  e  k  h  a  r  "
     ]
    }
   ],
   "source": [
    "name = \"chandrashekhar\"\n",
    "for i in name:\n",
    "    print(i,end='  ')"
   ]
  },
  {
   "cell_type": "code",
   "execution_count": 4,
   "metadata": {},
   "outputs": [
    {
     "name": "stdout",
     "output_type": "stream",
     "text": [
      "0\n",
      "1\n",
      "2\n",
      "3\n",
      "4\n",
      "5\n",
      "6\n",
      "7\n",
      "8\n",
      "9\n",
      "10\n",
      "11\n",
      "12\n",
      "13\n",
      "14\n",
      "15\n",
      "16\n",
      "17\n",
      "18\n",
      "19\n",
      "20\n",
      "21\n",
      "22\n",
      "23\n",
      "24\n",
      "25\n",
      "26\n",
      "27\n",
      "28\n",
      "29\n"
     ]
    }
   ],
   "source": [
    "for num in range(30):\n",
    "    print(num)"
   ]
  },
  {
   "cell_type": "code",
   "execution_count": 5,
   "metadata": {},
   "outputs": [
    {
     "name": "stdout",
     "output_type": "stream",
     "text": [
      "ayushi\n",
      "ayushi\n",
      "ayushi\n",
      "ayushi\n",
      "ayushi\n"
     ]
    }
   ],
   "source": [
    "for name in range(5):\n",
    "    print(\"ayushi\")"
   ]
  },
  {
   "cell_type": "code",
   "execution_count": 8,
   "metadata": {},
   "outputs": [
    {
     "name": "stdout",
     "output_type": "stream",
     "text": [
      "15\n",
      "sum : 15\n",
      "sum of 10 and 5 is 15\n",
      "sum of 10 and 5 is 15\n"
     ]
    }
   ],
   "source": [
    "a=10\n",
    "b=5\n",
    "sum = a+b\n",
    "print(sum)\n",
    "print(\"sum :\" ,sum)\n",
    "print(\"sum of\",a,\"and\",b,\"is\",sum)\n",
    "print(f\"sum of {a} and {b} is {sum}\")\n"
   ]
  },
  {
   "cell_type": "code",
   "execution_count": 15,
   "metadata": {},
   "outputs": [
    {
     "name": "stdout",
     "output_type": "stream",
     "text": [
      "15*1 = 15\n",
      "15*2 = 30\n",
      "15*3 = 45\n",
      "15*4 = 60\n",
      "15*5 = 75\n",
      "15*6 = 90\n",
      "15*7 = 105\n",
      "15*8 = 120\n",
      "15*9 = 135\n",
      "15*10 = 150\n"
     ]
    }
   ],
   "source": [
    "for i in range(1,11):\n",
    "    print(f\"15*{i} = {15*i}\")\n",
    "    "
   ]
  },
  {
   "cell_type": "code",
   "execution_count": 16,
   "metadata": {},
   "outputs": [
    {
     "name": "stdout",
     "output_type": "stream",
     "text": [
      "1\n",
      "2\n",
      "3\n",
      "4\n",
      "5\n",
      "6\n",
      "7\n",
      "8\n",
      "9\n",
      "10\n"
     ]
    }
   ],
   "source": [
    "#Write a program to print numbers from 1 to 10 using a for loop.\n",
    "\n",
    "for i in range(1,11):\n",
    "    print(i)"
   ]
  },
  {
   "cell_type": "code",
   "execution_count": 17,
   "metadata": {},
   "outputs": [
    {
     "name": "stdout",
     "output_type": "stream",
     "text": [
      "The sum of all even numbers between 1 and 100 is: 2550\n"
     ]
    }
   ],
   "source": [
    "#Write a program to find the sum of all even numbers between 1 and 100 using a for loop.\n",
    "\n",
    "even_sum = 0\n",
    "for number in range(1, 101):\n",
    "    if number % 2 == 0:\n",
    "        even_sum += number\n",
    "\n",
    "\n",
    "print(\"The sum of all even numbers between 1 and 100 is:\", even_sum)"
   ]
  },
  {
   "cell_type": "code",
   "execution_count": 18,
   "metadata": {},
   "outputs": [
    {
     "name": "stdout",
     "output_type": "stream",
     "text": [
      "0\n",
      "2\n",
      "4\n",
      "6\n",
      "8\n",
      "10\n",
      "12\n",
      "14\n",
      "16\n",
      "18\n",
      "20\n"
     ]
    }
   ],
   "source": [
    "#print even numbers between 0 to 21\n",
    "for i in range(0,21):\n",
    "    if i % 2 ==0:\n",
    "        print(i)"
   ]
  },
  {
   "cell_type": "code",
   "execution_count": 19,
   "metadata": {},
   "outputs": [
    {
     "name": "stdout",
     "output_type": "stream",
     "text": [
      "sum of intergers from 1 to 100 is: 5050\n"
     ]
    }
   ],
   "source": [
    "#sum if integers from 1 to 100\n",
    "sum=0\n",
    "for i in range (1,101):\n",
    "    sum=sum+i\n",
    "print(\"sum of intergers from 1 to 100 is:\" , sum)"
   ]
  },
  {
   "cell_type": "code",
   "execution_count": 20,
   "metadata": {},
   "outputs": [
    {
     "name": "stdout",
     "output_type": "stream",
     "text": [
      "1\n",
      "2\n",
      "3\n",
      "4\n",
      "5\n",
      "6\n",
      "7\n",
      "8\n",
      "9\n",
      "10\n"
     ]
    }
   ],
   "source": [
    "#ptint integer using while loop\n",
    "num=1\n",
    "while num <=10:\n",
    "    print(num)\n",
    "    num +=1\n",
    "\n",
    "\n"
   ]
  },
  {
   "cell_type": "code",
   "execution_count": 21,
   "metadata": {},
   "outputs": [
    {
     "name": "stdout",
     "output_type": "stream",
     "text": [
      "sum of interger from 1 to 100 is : 5050\n"
     ]
    }
   ],
   "source": [
    "#sum of interger using while loop\n",
    "\n",
    "sum=0\n",
    "num=1\n",
    "while num<=100:\n",
    "    sum = sum+num\n",
    "    num = num+1\n",
    "print(\"sum of interger from 1 to 100 is :\",sum)"
   ]
  },
  {
   "cell_type": "markdown",
   "metadata": {},
   "source": [
    "## BREAK AND CONTINUE\n"
   ]
  },
  {
   "cell_type": "code",
   "execution_count": 22,
   "metadata": {},
   "outputs": [
    {
     "name": "stdout",
     "output_type": "stream",
     "text": [
      "apple\n",
      "orange\n",
      "pear\n",
      "banana\n"
     ]
    }
   ],
   "source": [
    "fruits =['apple', 'orange','pear','banana','tomato','kiwi','banana']\n",
    "for fruit in fruits:\n",
    "    if fruit == \"tomato\":\n",
    "        break\n",
    "    print(fruit)"
   ]
  },
  {
   "cell_type": "code",
   "execution_count": 23,
   "metadata": {},
   "outputs": [
    {
     "name": "stdout",
     "output_type": "stream",
     "text": [
      "apple\n",
      "orange\n",
      "pear\n",
      "banana\n",
      "kiwi\n",
      "banana\n"
     ]
    }
   ],
   "source": [
    "fruits =['apple', 'orange','pear','banana','tomato','kiwi','banana']\n",
    "for fruit in fruits:\n",
    "    if fruit == \"tomato\":\n",
    "        continue\n",
    "    print(fruit)\n",
    "    "
   ]
  },
  {
   "cell_type": "code",
   "execution_count": 24,
   "metadata": {},
   "outputs": [
    {
     "name": "stdout",
     "output_type": "stream",
     "text": [
      "0.apple\n",
      "1.orange\n",
      "2.pear\n",
      "3.banana\n",
      "4.tomato\n",
      "5.kiwi\n",
      "6.banana\n"
     ]
    }
   ],
   "source": [
    "for i,f in enumerate(fruits):\n",
    "    print(f'{i}.{f}')"
   ]
  },
  {
   "cell_type": "code",
   "execution_count": 25,
   "metadata": {},
   "outputs": [
    {
     "name": "stdout",
     "output_type": "stream",
     "text": [
      "a\n",
      "y\n",
      "u\n"
     ]
    }
   ],
   "source": [
    "name= ['a','y','u','s','h','i']\n",
    "for i in name:\n",
    "    if i=='s':\n",
    "        break\n",
    "    print(i)"
   ]
  },
  {
   "cell_type": "code",
   "execution_count": 26,
   "metadata": {},
   "outputs": [
    {
     "name": "stdout",
     "output_type": "stream",
     "text": [
      "0.pen\n",
      "1.pencil\n",
      "2.book\n",
      "3.copy\n",
      "4.bottle\n",
      "5.lunchbox\n",
      "6.tiffen\n"
     ]
    }
   ],
   "source": [
    "items=['pen','pencil','book','copy','bottle','lunchbox','tiffen','eraser','bag',]\n",
    "for i,v in enumerate(items):\n",
    "    if i==7:\n",
    "        break\n",
    "    print(f'{i}.{v}')"
   ]
  },
  {
   "cell_type": "code",
   "execution_count": null,
   "metadata": {},
   "outputs": [],
   "source": []
  }
 ],
 "metadata": {
  "kernelspec": {
   "display_name": "base",
   "language": "python",
   "name": "python3"
  },
  "language_info": {
   "codemirror_mode": {
    "name": "ipython",
    "version": 3
   },
   "file_extension": ".py",
   "mimetype": "text/x-python",
   "name": "python",
   "nbconvert_exporter": "python",
   "pygments_lexer": "ipython3",
   "version": "3.12.4"
  }
 },
 "nbformat": 4,
 "nbformat_minor": 2
}
