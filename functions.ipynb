{
 "cells": [
  {
   "cell_type": "markdown",
   "metadata": {},
   "source": [
    "## types of functions\n",
    "\n",
    "- user defined functions\n",
    "- built in function"
   ]
  },
  {
   "cell_type": "code",
   "execution_count": 1,
   "metadata": {},
   "outputs": [],
   "source": [
    "#Syntax of non-parameterized Function\n",
    "# def function_name():\n",
    "#     statements\n",
    "\n",
    "\n",
    "#function call\n",
    "# function_name()"
   ]
  },
  {
   "cell_type": "code",
   "execution_count": 2,
   "metadata": {},
   "outputs": [
    {
     "name": "stdout",
     "output_type": "stream",
     "text": [
      "My first user defined function\n"
     ]
    }
   ],
   "source": [
    "def my_func():\n",
    "    print('My first user defined function')\n",
    "my_func()  # function call"
   ]
  },
  {
   "cell_type": "code",
   "execution_count": 4,
   "metadata": {},
   "outputs": [
    {
     "name": "stdout",
     "output_type": "stream",
     "text": [
      "My first user defined function\n",
      "My first user defined function\n"
     ]
    }
   ],
   "source": [
    "my_func() \n",
    "my_func() "
   ]
  },
  {
   "cell_type": "code",
   "execution_count": 6,
   "metadata": {},
   "outputs": [],
   "source": [
    "# parameterized funtion\n",
    "def sum(a,b):\n",
    "    print(a+b)"
   ]
  },
  {
   "cell_type": "code",
   "execution_count": 7,
   "metadata": {},
   "outputs": [
    {
     "name": "stdout",
     "output_type": "stream",
     "text": [
      "30\n"
     ]
    }
   ],
   "source": [
    "sum(10,20)"
   ]
  },
  {
   "cell_type": "code",
   "execution_count": 8,
   "metadata": {},
   "outputs": [
    {
     "name": "stdout",
     "output_type": "stream",
     "text": [
      "300\n"
     ]
    }
   ],
   "source": [
    "sum(100,200)"
   ]
  },
  {
   "cell_type": "code",
   "execution_count": 9,
   "metadata": {},
   "outputs": [
    {
     "name": "stdout",
     "output_type": "stream",
     "text": [
      "314.0\n"
     ]
    }
   ],
   "source": [
    "# find the area of circle\n",
    "def area_of_circle(r):\n",
    "    print(3.14*r*r)\n",
    "area_of_circle(10)"
   ]
  },
  {
   "cell_type": "code",
   "execution_count": 10,
   "metadata": {},
   "outputs": [
    {
     "name": "stdout",
     "output_type": "stream",
     "text": [
      "20.0\n",
      "None\n"
     ]
    }
   ],
   "source": [
    "#void function, not returning a value\n",
    "#find the average of three numbers\n",
    "def avg (a,b,c):\n",
    "    print((a+b+c)/3)\n",
    "average = avg(10,20,30)\n",
    "print(average)"
   ]
  },
  {
   "cell_type": "code",
   "execution_count": 12,
   "metadata": {},
   "outputs": [
    {
     "name": "stdout",
     "output_type": "stream",
     "text": [
      "20.0\n"
     ]
    }
   ],
   "source": [
    "#non-void function, returning the value\n",
    "def avg(a,b,c):\n",
    "    return (a+b+c)/3\n",
    "average = avg(10,20,30)\n",
    "print(average)"
   ]
  },
  {
   "cell_type": "code",
   "execution_count": 14,
   "metadata": {},
   "outputs": [
    {
     "name": "stdout",
     "output_type": "stream",
     "text": [
      "Ramji\n",
      "ayushiji\n"
     ]
    }
   ],
   "source": [
    "# using void function \n",
    "def name(name):\n",
    "    print(name + 'ji')\n",
    "name('Ram')\n",
    "name('ayushi')"
   ]
  },
  {
   "cell_type": "code",
   "execution_count": 16,
   "metadata": {},
   "outputs": [
    {
     "name": "stdout",
     "output_type": "stream",
     "text": [
      "I am from Nepal\n",
      "I am from USA\n",
      "I am from \n"
     ]
    }
   ],
   "source": [
    "#default parameter functions\n",
    "def my_country(country = 'India'):\n",
    "    print('I am from '+ country)\n",
    "my_country('Nepal')\n",
    "my_country(\"USA\")\n",
    "my_country(\"\")"
   ]
  },
  {
   "cell_type": "code",
   "execution_count": 17,
   "metadata": {},
   "outputs": [
    {
     "name": "stdout",
     "output_type": "stream",
     "text": [
      "apple\n",
      "banana\n",
      "orange\n",
      "mango\n"
     ]
    }
   ],
   "source": [
    "def food_option(food):\n",
    "    for i in food:\n",
    "        print (i)\n",
    "\n",
    "fruits = ['apple','banana','orange','mango']\n",
    "food_option(fruits)"
   ]
  },
  {
   "cell_type": "code",
   "execution_count": 20,
   "metadata": {},
   "outputs": [
    {
     "name": "stdout",
     "output_type": "stream",
     "text": [
      "odd\n"
     ]
    }
   ],
   "source": [
    "#find the number is even or odd\n",
    "def even_odd(num):\n",
    "    if num%2==0:\n",
    "        print(\"Even\")\n",
    "    else:\n",
    "        print(\"odd\")\n",
    "\n",
    "num = int(input(\"Enter a number:\"))\n",
    "even_odd(num)"
   ]
  },
  {
   "cell_type": "code",
   "execution_count": null,
   "metadata": {},
   "outputs": [],
   "source": []
  }
 ],
 "metadata": {
  "kernelspec": {
   "display_name": "base",
   "language": "python",
   "name": "python3"
  },
  "language_info": {
   "codemirror_mode": {
    "name": "ipython",
    "version": 3
   },
   "file_extension": ".py",
   "mimetype": "text/x-python",
   "name": "python",
   "nbconvert_exporter": "python",
   "pygments_lexer": "ipython3",
   "version": "3.12.4"
  }
 },
 "nbformat": 4,
 "nbformat_minor": 2
}
